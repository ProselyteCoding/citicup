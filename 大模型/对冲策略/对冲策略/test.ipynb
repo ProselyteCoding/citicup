{
 "cells": [
  {
   "cell_type": "code",
   "execution_count": 29,
   "metadata": {},
   "outputs": [],
   "source": [
    "from langchain_openai import ChatOpenAI\n",
    "from langgraph.graph import MessagesState\n",
    "from langchain_core.messages import HumanMessage, SystemMessage\n",
    "from pydantic import BaseModel, Field\n",
    "from typing import List, Optional\n",
    "import numpy as np\n",
    "import pandas as pd"
   ]
  },
  {
   "cell_type": "code",
   "execution_count": 30,
   "metadata": {},
   "outputs": [],
   "source": [
    "llm = ChatOpenAI(model=\"gpt-4o\")"
   ]
  },
  {
   "cell_type": "code",
   "execution_count": 31,
   "metadata": {},
   "outputs": [],
   "source": [
    "class CurrentHedgingAdvice(BaseModel):\n",
    "    volatility: float = Field(description=\"市场波动率，数值型，范围0-1\")\n",
    "    emotion: str = Field(description=\"市场情绪，例如'偏多'（看涨）、'偏空'（看跌）、'中性'\")\n",
    "    suggestion: str = Field(description=\"对冲建议，简短的描述性文本\")\n",
    "\n",
    "class PositionRiskAssessment(BaseModel):\n",
    "    risk: str = Field(description=\"风险等级，例如'高风险'、'中风险'、'低风险'\")\n",
    "    var: str = Field(description=\"风险价值（VaR），格式化为字符串，例如'$25,000'\")\n",
    "    suggestion: str = Field(description=\"风险管理建议，简短的描述性文本\")\n",
    "\n",
    "class CorrelationAnalysis(BaseModel):\n",
    "    relative: str = Field(description=\"货币对相关性，例如'强正相关'、'弱负相关'、'无相关'\")\n",
    "    estimate: str = Field(description=\"对冲效果预估，例如'高'、'中等'、'低'\")\n",
    "    suggestion: str = Field(description=\"相关性对冲建议，例如建议选择负相关货币对进行对冲\")\n",
    "\n",
    "class CostBenefitAnalysis(BaseModel):\n",
    "    cost: float = Field(description=\"对冲成本，数值型，范围0-1\")\n",
    "    influence: str = Field(description=\"对收益率的影响，例如'高'、'中'、'低'\")\n",
    "    suggestion: str = Field(description=\"成本收益对冲建议，例如'进行策略性对冲'\")\n",
    "\n",
    "class RecommendedPosition(BaseModel):\n",
    "    currency: str = Field(description=\"建议持有的货币种类\")\n",
    "    quantity: int = Field(description=\"建议的持仓量\")\n",
    "\n",
    "class HedgingAdvice(BaseModel):\n",
    "    historicalAnalysis: Optional[dict] = Field(default=None, description=\"历史分析，预留字段，目前未使用\")\n",
    "    currentHedgingAdvice: CurrentHedgingAdvice = Field(description=\"当前对冲建议，包括市场波动率、市场情绪和对冲策略\")\n",
    "    positionRiskAssessment: PositionRiskAssessment = Field(description=\"持仓风险评估，包括风险等级、VaR值和风险管理建议\")\n",
    "    correlationAnalysis: CorrelationAnalysis = Field(description=\"相关性分析，评估货币对之间的相关性及其对冲效果\")\n",
    "    costBenefitAnalysis: CostBenefitAnalysis = Field(description=\"成本效益分析，评估对冲成本及其对收益的影响\")\n",
    "    recommendedPositions: List[RecommendedPosition] = Field(description=\"建议持仓调整方案\")\n",
    "    "
   ]
  },
  {
   "cell_type": "code",
   "execution_count": 32,
   "metadata": {},
   "outputs": [
    {
     "data": {
      "text/plain": [
       "'The output should be formatted as a JSON instance that conforms to the JSON schema below.\\n\\nAs an example, for the schema {\"properties\": {\"foo\": {\"title\": \"Foo\", \"description\": \"a list of strings\", \"type\": \"array\", \"items\": {\"type\": \"string\"}}}, \"required\": [\"foo\"]}\\nthe object {\"foo\": [\"bar\", \"baz\"]} is a well-formatted instance of the schema. The object {\"properties\": {\"foo\": [\"bar\", \"baz\"]}} is not well-formatted.\\n\\nHere is the output schema:\\n```\\n{\"$defs\": {\"CorrelationAnalysis\": {\"properties\": {\"relative\": {\"description\": \"货币对相关性，例如\\'强正相关\\'、\\'弱负相关\\'、\\'无相关\\'\", \"title\": \"Relative\", \"type\": \"string\"}, \"estimate\": {\"description\": \"对冲效果预估，例如\\'高\\'、\\'中等\\'、\\'低\\'\", \"title\": \"Estimate\", \"type\": \"string\"}, \"suggestion\": {\"description\": \"相关性对冲建议，例如建议选择负相关货币对进行对冲\", \"title\": \"Suggestion\", \"type\": \"string\"}}, \"required\": [\"relative\", \"estimate\", \"suggestion\"], \"title\": \"CorrelationAnalysis\", \"type\": \"object\"}, \"CostBenefitAnalysis\": {\"properties\": {\"cost\": {\"description\": \"对冲成本，数值型，范围0-1\", \"title\": \"Cost\", \"type\": \"number\"}, \"influence\": {\"description\": \"对收益率的影响，例如\\'高\\'、\\'中\\'、\\'低\\'\", \"title\": \"Influence\", \"type\": \"string\"}, \"suggestion\": {\"description\": \"成本收益对冲建议，例如\\'进行策略性对冲\\'\", \"title\": \"Suggestion\", \"type\": \"string\"}}, \"required\": [\"cost\", \"influence\", \"suggestion\"], \"title\": \"CostBenefitAnalysis\", \"type\": \"object\"}, \"CurrentHedgingAdvice\": {\"properties\": {\"volatility\": {\"description\": \"市场波动率，数值型，范围0-1\", \"title\": \"Volatility\", \"type\": \"number\"}, \"emotion\": {\"description\": \"市场情绪，例如\\'偏多\\'（看涨）、\\'偏空\\'（看跌）、\\'中性\\'\", \"title\": \"Emotion\", \"type\": \"string\"}, \"suggestion\": {\"description\": \"对冲建议，简短的描述性文本\", \"title\": \"Suggestion\", \"type\": \"string\"}}, \"required\": [\"volatility\", \"emotion\", \"suggestion\"], \"title\": \"CurrentHedgingAdvice\", \"type\": \"object\"}, \"PositionRiskAssessment\": {\"properties\": {\"risk\": {\"description\": \"风险等级，例如\\'高风险\\'、\\'中风险\\'、\\'低风险\\'\", \"title\": \"Risk\", \"type\": \"string\"}, \"var\": {\"description\": \"风险价值（VaR），格式化为字符串，例如\\'$25,000\\'\", \"title\": \"Var\", \"type\": \"string\"}, \"suggestion\": {\"description\": \"风险管理建议，简短的描述性文本\", \"title\": \"Suggestion\", \"type\": \"string\"}}, \"required\": [\"risk\", \"var\", \"suggestion\"], \"title\": \"PositionRiskAssessment\", \"type\": \"object\"}, \"RecommendedPosition\": {\"properties\": {\"currency\": {\"description\": \"建议持有的货币种类\", \"title\": \"Currency\", \"type\": \"string\"}, \"quantity\": {\"description\": \"建议的持仓量\", \"title\": \"Quantity\", \"type\": \"integer\"}}, \"required\": [\"currency\", \"quantity\"], \"title\": \"RecommendedPosition\", \"type\": \"object\"}}, \"properties\": {\"historicalAnalysis\": {\"anyOf\": [{\"type\": \"object\"}, {\"type\": \"null\"}], \"default\": null, \"description\": \"历史分析，预留字段，目前未使用\", \"title\": \"Historicalanalysis\"}, \"currentHedgingAdvice\": {\"$ref\": \"#/$defs/CurrentHedgingAdvice\", \"description\": \"当前对冲建议，包括市场波动率、市场情绪和对冲策略\"}, \"positionRiskAssessment\": {\"$ref\": \"#/$defs/PositionRiskAssessment\", \"description\": \"持仓风险评估，包括风险等级、VaR值和风险管理建议\"}, \"correlationAnalysis\": {\"$ref\": \"#/$defs/CorrelationAnalysis\", \"description\": \"相关性分析，评估货币对之间的相关性及其对冲效果\"}, \"costBenefitAnalysis\": {\"$ref\": \"#/$defs/CostBenefitAnalysis\", \"description\": \"成本效益分析，评估对冲成本及其对收益的影响\"}, \"recommendedPositions\": {\"description\": \"建议持仓调整方案\", \"items\": {\"$ref\": \"#/$defs/RecommendedPosition\"}, \"title\": \"Recommendedpositions\", \"type\": \"array\"}}, \"required\": [\"currentHedgingAdvice\", \"positionRiskAssessment\", \"correlationAnalysis\", \"costBenefitAnalysis\", \"recommendedPositions\"]}\\n```'"
      ]
     },
     "execution_count": 32,
     "metadata": {},
     "output_type": "execute_result"
    }
   ],
   "source": [
    "from langchain_core.output_parsers import JsonOutputParser\n",
    "parser = JsonOutputParser(pydantic_object=HedgingAdvice)\n",
    "parser.get_format_instructions()"
   ]
  },
  {
   "cell_type": "code",
   "execution_count": 33,
   "metadata": {},
   "outputs": [],
   "source": [
    "prompt=f'''\n",
    "你是一个专业的金融市场智能对冲分析助手，专注于外汇市场的风险管理和对冲策略优化。你的任务是根据用户提供的持仓数据，进行全面的对冲分析，并生成可操作的对冲建议。\n",
    "\n",
    "你的分析应包含以下关键模块：\n",
    "\n",
    "市场波动性分析\n",
    "\n",
    "计算整体组合的日波动率\n",
    "根据市场波动率判断市场情绪（例如“偏多”“中性”“偏空”）\n",
    "头寸风险评估\n",
    "\n",
    "计算持仓组合的 VaR（风险价值）\n",
    "评估当前风险等级（高/中/低）\n",
    "针对高风险头寸提供具体的对冲建议\n",
    "相关性分析\n",
    "\n",
    "评估不同货币对之间的相关性（强正相关、弱负相关、无相关等）\n",
    "预测对冲效果（高/中等/低）\n",
    "建议如何利用低相关或负相关资产进行对冲\n",
    "成本效益分析\n",
    "\n",
    "计算平均对冲成本并分析其对收益的影响\n",
    "提供最佳的成本收益对冲策略\n",
    "建议持仓调整\n",
    "\n",
    "根据前述分析，提供具体的持仓调整建议\n",
    "建议持仓量应优化风险敞口，同时控制对冲成本\n",
    "输入格式\n",
    "用户提供的持仓数据将以 JSON 数组格式输入，每个对象包含：\n",
    "\n",
    "currency (str): 货币对名称 (如 \"EUR/USD\")\n",
    "quantity (int): 持仓量\n",
    "proportion (float): 持仓占比（系统计算得出）\n",
    "benefit (float): 该持仓的盈亏\n",
    "dailyVolatility (float): 该货币对的日波动率\n",
    "valueAtRisk (str): VaR(95%)，格式化为美元字符串 (如 \"$15,000\")\n",
    "beta (float): Beta 系数，衡量货币对的市场敏感度\n",
    "hedgingCost (float): 该货币对的对冲成本\n",
    "输出格式\n",
    "你需要返回一个 JSON 对象\n",
    "{parser.get_format_instructions()}\n",
    "重要原则\n",
    "准确性：所有计算必须基于输入数据，确保风险评估和建议的可靠性\n",
    "简洁性：对冲建议应清晰明了，适合交易员快速执行\n",
    "可操作性：提供的数据和建议应直接适用于实际交易决策\n",
    "风险控制：优先减少高风险敞口，优化持仓结构\n",
    "你的目标是帮助用户制定最优的外汇市场对冲策略，以最小成本实现最佳风险控制和收益平衡。\n",
    "'''"
   ]
  },
  {
   "cell_type": "code",
   "execution_count": 34,
   "metadata": {},
   "outputs": [],
   "source": [
    "#定义系统消息\n",
    "sys_msg = SystemMessage(content=prompt)"
   ]
  },
  {
   "cell_type": "code",
   "execution_count": 35,
   "metadata": {},
   "outputs": [],
   "source": [
    "import numpy as np\n",
    "import pandas as pd\n",
    "from typing import List, Dict, Tuple\n",
    "from langchain.tools import tool\n",
    "\n",
    "@tool\n",
    "def calculate_portfolio_volatility(data: List[Dict]) -> float:\n",
    "    \"\"\"\n",
    "    计算整体持仓组合的波动率（Volatility）。\n",
    "    \n",
    "    该工具使用各货币对的日波动率（dailyVolatility）和其在持仓中的占比（proportion）计算加权平均波动率。\n",
    "\n",
    "    Args:\n",
    "        data (List[Dict]): 持仓数据列表，每个字典包含 'dailyVolatility' 和 'proportion' 两个字段。\n",
    "\n",
    "    Returns:\n",
    "        float: 计算出的组合波动率。\n",
    "    \"\"\"\n",
    "    df = pd.DataFrame(data)\n",
    "    return np.average(df[\"dailyVolatility\"], weights=df[\"proportion\"])\n",
    "\n",
    "@tool\n",
    "def determine_market_emotion(volatility: float) -> str:\n",
    "    \"\"\"\n",
    "    根据组合波动率判断市场情绪。\n",
    "    \n",
    "    市场情绪由组合波动率决定：\n",
    "    - 波动率 > 0.1 -> 市场情绪“偏多”（看涨趋势）\n",
    "    - 波动率 < 0.05 -> 市场情绪“偏空”（看跌趋势）\n",
    "    - 介于 0.05 和 0.1 之间 -> 市场情绪“中性”\n",
    "\n",
    "    Args:\n",
    "        volatility (float): 组合波动率。\n",
    "\n",
    "    Returns:\n",
    "        str: 市场情绪（'偏多'、'中性' 或 '偏空'）。\n",
    "    \"\"\"\n",
    "    if volatility > 0.1:\n",
    "        return \"偏多\"\n",
    "    elif volatility < 0.05:\n",
    "        return \"偏空\"\n",
    "    return \"中性\"\n",
    "\n",
    "@tool\n",
    "def assess_risk(data: List[Dict]) -> Tuple[str, Dict]:\n",
    "    \"\"\"\n",
    "    评估持仓组合的风险水平。\n",
    "    \n",
    "    该工具计算各货币对的 VaR（Value at Risk, 风险价值），并找出风险最大的货币对。\n",
    "    根据 VaR 值评估整体风险等级：\n",
    "    - VaR < 15000 -> 低风险\n",
    "    - 15000 <= VaR < 30000 -> 中风险\n",
    "    - VaR >= 30000 -> 高风险\n",
    "\n",
    "    Args:\n",
    "        data (List[Dict]): 持仓数据列表，每个字典包含 'valueAtRisk' 字段（字符串格式，如 '$15,000'）。\n",
    "\n",
    "    Returns:\n",
    "        Tuple[str, Dict]: (风险评级, VaR 最高的货币对数据)\n",
    "    \"\"\"\n",
    "    df = pd.DataFrame(data)\n",
    "    df[\"VaR_value\"] = df[\"valueAtRisk\"].replace({'$': '', ',': ''}, regex=True).astype(float)\n",
    "    highest_risk = df.loc[df[\"VaR_value\"].idxmax()].to_dict()\n",
    "    risk_level = \"低风险\" if highest_risk[\"VaR_value\"] < 15000 else \"中风险\" if highest_risk[\"VaR_value\"] < 30000 else \"高风险\"\n",
    "    return risk_level, highest_risk\n",
    "\n",
    "@tool\n",
    "def analyze_correlation(data: List[Dict]) -> Tuple[str, str]:\n",
    "    \"\"\"\n",
    "    计算持仓货币对之间的相关性，并评估对冲有效性。\n",
    "\n",
    "    该工具通过 Beta 系数计算货币对的相关性：\n",
    "    - Beta 均值 > 1 -> 强正相关\n",
    "    - Beta 均值 <= 1 -> 弱负相关\n",
    "\n",
    "    同时，结合相关性信息，对对冲效果进行预估：\n",
    "    - 相关性“弱负相关” -> 高对冲效果\n",
    "    - 相关性“强正相关” -> 中等对冲效果\n",
    "\n",
    "    Args:\n",
    "        data (List[Dict]): 持仓数据列表，每个字典包含 'beta' 字段。\n",
    "\n",
    "    Returns:\n",
    "        Tuple[str, str]: (相关性类型, 对冲有效性)\n",
    "    \"\"\"\n",
    "    df = pd.DataFrame(data)\n",
    "    correlation = \"强正相关\" if df[\"beta\"].mean() > 1 else \"弱负相关\"\n",
    "    hedge_effectiveness = \"高\" if correlation == \"弱负相关\" else \"中等\"\n",
    "    return correlation, hedge_effectiveness\n",
    "\n",
    "@tool\n",
    "def evaluate_hedging_cost(data: List[Dict]) -> Tuple[float, str]:\n",
    "    \"\"\"\n",
    "    计算对冲成本，并评估其对收益率的影响。\n",
    "\n",
    "    该工具计算所有持仓的平均对冲成本（hedgingCost），并给出成本影响评级：\n",
    "    - 对冲成本 < 0.001 -> 低影响\n",
    "    - 0.001 <= 对冲成本 < 0.002 -> 中等影响\n",
    "    - 对冲成本 >= 0.002 -> 高影响\n",
    "\n",
    "    Args:\n",
    "        data (List[Dict]): 持仓数据列表，每个字典包含 'hedgingCost' 字段。\n",
    "\n",
    "    Returns:\n",
    "        Tuple[float, str]: (平均对冲成本, 成本影响评级)\n",
    "    \"\"\"\n",
    "    df = pd.DataFrame(data)\n",
    "    avg_cost = df[\"hedgingCost\"].mean()\n",
    "    cost_impact = \"低\" if avg_cost < 0.001 else \"中\" if avg_cost < 0.002 else \"高\"\n",
    "    return avg_cost, cost_impact\n",
    "\n"
   ]
  },
  {
   "cell_type": "code",
   "execution_count": 36,
   "metadata": {},
   "outputs": [],
   "source": [
    "tools=[calculate_portfolio_volatility,determine_market_emotion,assess_risk,analyze_correlation,evaluate_hedging_cost]"
   ]
  },
  {
   "cell_type": "code",
   "execution_count": 37,
   "metadata": {},
   "outputs": [],
   "source": [
    "llm_with_tools=llm.bind_tools(tools)"
   ]
  },
  {
   "cell_type": "code",
   "execution_count": 38,
   "metadata": {},
   "outputs": [
    {
     "data": {
      "text/plain": [
       "RunnableBinding(bound=ChatOpenAI(client=<openai.resources.chat.completions.completions.Completions object at 0x0000010EE4384460>, async_client=<openai.resources.chat.completions.completions.AsyncCompletions object at 0x0000010E87745B80>, root_client=<openai.OpenAI object at 0x0000010E8768B550>, root_async_client=<openai.AsyncOpenAI object at 0x0000010EE4384430>, model_name='gpt-4o', model_kwargs={}, openai_api_key=SecretStr('**********'), openai_api_base='https://api.chatanywhere.tech/v1'), kwargs={'tools': [{'type': 'function', 'function': {'name': 'calculate_portfolio_volatility', 'description': \"计算整体持仓组合的波动率（Volatility）。\\n\\n该工具使用各货币对的日波动率（dailyVolatility）和其在持仓中的占比（proportion）计算加权平均波动率。\\n\\nArgs:\\n    data (List[Dict]): 持仓数据列表，每个字典包含 'dailyVolatility' 和 'proportion' 两个字段。\\n\\nReturns:\\n    float: 计算出的组合波动率。\", 'parameters': {'properties': {'data': {'items': {'type': 'object'}, 'type': 'array'}}, 'required': ['data'], 'type': 'object'}}}, {'type': 'function', 'function': {'name': 'determine_market_emotion', 'description': \"根据组合波动率判断市场情绪。\\n\\n市场情绪由组合波动率决定：\\n- 波动率 > 0.1 -> 市场情绪“偏多”（看涨趋势）\\n- 波动率 < 0.05 -> 市场情绪“偏空”（看跌趋势）\\n- 介于 0.05 和 0.1 之间 -> 市场情绪“中性”\\n\\nArgs:\\n    volatility (float): 组合波动率。\\n\\nReturns:\\n    str: 市场情绪（'偏多'、'中性' 或 '偏空'）。\", 'parameters': {'properties': {'volatility': {'type': 'number'}}, 'required': ['volatility'], 'type': 'object'}}}, {'type': 'function', 'function': {'name': 'assess_risk', 'description': \"评估持仓组合的风险水平。\\n\\n该工具计算各货币对的 VaR（Value at Risk, 风险价值），并找出风险最大的货币对。\\n根据 VaR 值评估整体风险等级：\\n- VaR < 15000 -> 低风险\\n- 15000 <= VaR < 30000 -> 中风险\\n- VaR >= 30000 -> 高风险\\n\\nArgs:\\n    data (List[Dict]): 持仓数据列表，每个字典包含 'valueAtRisk' 字段（字符串格式，如 '$15,000'）。\\n\\nReturns:\\n    Tuple[str, Dict]: (风险评级, VaR 最高的货币对数据)\", 'parameters': {'properties': {'data': {'items': {'type': 'object'}, 'type': 'array'}}, 'required': ['data'], 'type': 'object'}}}, {'type': 'function', 'function': {'name': 'analyze_correlation', 'description': \"计算持仓货币对之间的相关性，并评估对冲有效性。\\n\\n该工具通过 Beta 系数计算货币对的相关性：\\n- Beta 均值 > 1 -> 强正相关\\n- Beta 均值 <= 1 -> 弱负相关\\n\\n同时，结合相关性信息，对对冲效果进行预估：\\n- 相关性“弱负相关” -> 高对冲效果\\n- 相关性“强正相关” -> 中等对冲效果\\n\\nArgs:\\n    data (List[Dict]): 持仓数据列表，每个字典包含 'beta' 字段。\\n\\nReturns:\\n    Tuple[str, str]: (相关性类型, 对冲有效性)\", 'parameters': {'properties': {'data': {'items': {'type': 'object'}, 'type': 'array'}}, 'required': ['data'], 'type': 'object'}}}, {'type': 'function', 'function': {'name': 'evaluate_hedging_cost', 'description': \"计算对冲成本，并评估其对收益率的影响。\\n\\n该工具计算所有持仓的平均对冲成本（hedgingCost），并给出成本影响评级：\\n- 对冲成本 < 0.001 -> 低影响\\n- 0.001 <= 对冲成本 < 0.002 -> 中等影响\\n- 对冲成本 >= 0.002 -> 高影响\\n\\nArgs:\\n    data (List[Dict]): 持仓数据列表，每个字典包含 'hedgingCost' 字段。\\n\\nReturns:\\n    Tuple[float, str]: (平均对冲成本, 成本影响评级)\", 'parameters': {'properties': {'data': {'items': {'type': 'object'}, 'type': 'array'}}, 'required': ['data'], 'type': 'object'}}}]}, config={}, config_factories=[])"
      ]
     },
     "execution_count": 38,
     "metadata": {},
     "output_type": "execute_result"
    }
   ],
   "source": [
    "llm_with_tools"
   ]
  },
  {
   "cell_type": "code",
   "execution_count": 39,
   "metadata": {},
   "outputs": [],
   "source": [
    "# 大模型结点\n",
    "def assistant(state: MessagesState):\n",
    "   return {\"messages\": [llm_with_tools.invoke([sys_msg] + state[\"messages\"])]}"
   ]
  },
  {
   "cell_type": "code",
   "execution_count": 41,
   "metadata": {},
   "outputs": [],
   "source": [
    "from langgraph.graph import START, StateGraph\n",
    "from langgraph.prebuilt import tools_condition\n",
    "from langgraph.prebuilt import ToolNode\n",
    "from IPython.display import Image, display\n",
    "\n",
    "# Graph\n",
    "builder = StateGraph(MessagesState)\n",
    "\n",
    "# Define nodes: these do the work\n",
    "builder.add_node(\"assistant\", assistant)\n",
    "builder.add_node(\"tools\", ToolNode(tools))\n",
    "\n",
    "# Define edges: these determine how the control flow moves\n",
    "builder.add_edge(START, \"assistant\")\n",
    "builder.add_conditional_edges(\n",
    "    \"assistant\",\n",
    "    # If the latest message (result) from assistant is a tool call -> tools_condition routes to tools\n",
    "    # If the latest message (result) from assistant is a not a tool call -> tools_condition routes to END\n",
    "    tools_condition,\n",
    ")\n",
    "builder.add_edge(\"tools\", \"assistant\")\n",
    "react_graph = builder.compile()\n"
   ]
  },
  {
   "cell_type": "code",
   "execution_count": 42,
   "metadata": {},
   "outputs": [
    {
     "data": {
      "image/png": "[encoded data removed]",
      "text/plain": [
       "<IPython.core.display.Image object>"
      ]
     },
     "metadata": {},
     "output_type": "display_data"
    }
   ],
   "source": [
    "# Show\n",
    "display(Image(react_graph.get_graph(xray=True).draw_mermaid_png()))"
   ]
  },
  {
   "cell_type": "code",
   "execution_count": 43,
   "metadata": {},
   "outputs": [],
   "source": [
    "messages = [HumanMessage(content='''\n",
    "货币对: EUR/USD\n",
    "持仓量: 1000000\n",
    "持仓占比: 0.35\n",
    "盈亏: 2500\n",
    "日波动率: 0.125\n",
    "VaR(95%): $15,000\n",
    "Beta系数: 1.2\n",
    "对冲成本: 0.0015\n",
    "------------------------------\n",
    "货币对: USD/JPY\n",
    "持仓量: 2000000\n",
    "持仓占比: 0.45\n",
    "盈亏: -1200\n",
    "日波动率: 0.085\n",
    "VaR(95%): $25,000\n",
    "Beta系数: 0.9\n",
    "对冲成本: 0.0012\n",
    "------------------------------\n",
    "货币对: GBP/USD\n",
    "持仓量: 1500000\n",
    "持仓占比: 0.25\n",
    "盈亏: 3200\n",
    "日波动率: 0.095\n",
    "VaR(95%): $18,000\n",
    "Beta系数: 1.1\n",
    "对冲成本: 0.0013\n",
    "------------------------------''')]\n",
    "messages = react_graph.invoke({\"messages\": messages})"
   ]
  },
  {
   "cell_type": "code",
   "execution_count": 47,
   "metadata": {},
   "outputs": [
    {
     "name": "stdout",
     "output_type": "stream",
     "text": [
      "\n",
      "货币对: EUR/USD\n",
      "持仓量: 1000000\n",
      "持仓占比: 0.35\n",
      "盈亏: 2500\n",
      "日波动率: 0.125\n",
      "VaR(95%): $15,000\n",
      "Beta系数: 1.2\n",
      "对冲成本: 0.0015\n",
      "------------------------------\n",
      "货币对: USD/JPY\n",
      "持仓量: 2000000\n",
      "持仓占比: 0.45\n",
      "盈亏: -1200\n",
      "日波动率: 0.085\n",
      "VaR(95%): $25,000\n",
      "Beta系数: 0.9\n",
      "对冲成本: 0.0012\n",
      "------------------------------\n",
      "货币对: GBP/USD\n",
      "持仓量: 1500000\n",
      "持仓占比: 0.25\n",
      "盈亏: 3200\n",
      "日波动率: 0.095\n",
      "VaR(95%): $18,000\n",
      "Beta系数: 1.1\n",
      "对冲成本: 0.0013\n",
      "------------------------------\n",
      "\n",
      "0.10071428571428571\n",
      "Error: ValueError(\"could not convert string to float: '$15000'\")\n",
      " Please fix your mistakes.\n",
      "[\"强正相关\", \"中等\"]\n",
      "[0.0013333333333333333, \"中\"]\n",
      "\n",
      "Error: ValueError(\"could not convert string to float: '$15000'\")\n",
      " Please fix your mistakes.\n",
      "在处理数据时出现了格式化问题，导致无法正确计算 VaR 值。我会先手动修正输入中的 VaR 格式，然后重新尝试处理。\n",
      "\n",
      "我们先重新将 VaR 数值转换为浮点数：\n",
      "\n",
      "- EUR/USD -> $15,000 -> 15000\n",
      "- USD/JPY -> $25,000 -> 25000\n",
      "- GBP/USD -> $18,000 -> 18000\n",
      "\n",
      "接下来我会再次尝试评估持仓组合的风险水平。\n",
      "[\"中风险\", {\"valueAtRisk\": \"25000\", \"VaR_value\": 25000.0}]\n",
      "\n",
      "偏多\n",
      "以下是基于您的持仓数据所进行的全面对冲分析及建议：\n",
      "\n",
      "### 当前对冲建议\n",
      "- **市场波动率**: 0.1007\n",
      "- **市场情绪**: 偏多\n",
      "- **建议**: 市场情绪偏多，建议利用市场空间适当增加看涨头寸，同时保持适度对冲以防意外风险。\n",
      "\n",
      "### 持仓风险评估\n",
      "- **风险等级**: 中风险\n",
      "- **最大 VaR 货币对**: USD/JPY ($25,000)\n",
      "- **建议**: 由于风险评级为中风险，建议考虑对USD/JPY持仓进行微调，通过增加其他货币对的反向持仓来分散风险。\n",
      "\n",
      "### 相关性分析\n",
      "- **相关性**: 强正相关\n",
      "- **对冲效果预估**: 中等\n",
      "- **建议**: 考虑选择非美元货币组合（如EUR/GBP）进行进一步对冲，以增强对冲效果，降低美元强相关性风险。\n",
      "\n",
      "### 成本效益分析\n",
      "- **平均对冲成本**: 0.0013\n",
      "- **对收益率的影响**: 中\n",
      "- **建议**: 成本效益属于中等水平，建议进行策略性对冲，以优化整体组合收益和风险。\n",
      "\n",
      "### 建议持仓调整\n",
      "- **建议持仓**\n",
      "  - **货币对**: USD/JPY\n",
      "  - **持仓量**: 考虑减仓以降低风险敞口，或通过组合对冲进一步优化风险。\n",
      "\n",
      "这些建议旨在帮助您在当前市场情况下优化风险管理及收益表现。请根据具体市场情况及交易策略灵活调整操作。\n"
     ]
    }
   ],
   "source": [
    "for m in messages['messages']:\n",
    "    print(m.content)"
   ]
  },
  {
   "cell_type": "code",
   "execution_count": 45,
   "metadata": {},
   "outputs": [
    {
     "data": {
      "text/plain": [
       "{'messages': [HumanMessage(content='\\n货币对: EUR/USD\\n持仓量: 1000000\\n持仓占比: 0.35\\n盈亏: 2500\\n日波动率: 0.125\\nVaR(95%): $15,000\\nBeta系数: 1.2\\n对冲成本: 0.0015\\n------------------------------\\n货币对: USD/JPY\\n持仓量: 2000000\\n持仓占比: 0.45\\n盈亏: -1200\\n日波动率: 0.085\\nVaR(95%): $25,000\\nBeta系数: 0.9\\n对冲成本: 0.0012\\n------------------------------\\n货币对: GBP/USD\\n持仓量: 1500000\\n持仓占比: 0.25\\n盈亏: 3200\\n日波动率: 0.095\\nVaR(95%): $18,000\\nBeta系数: 1.1\\n对冲成本: 0.0013\\n------------------------------', additional_kwargs={}, response_metadata={}, id='242915ba-4795-482e-8a94-995673ee571a'),\n",
       "  AIMessage(content='', additional_kwargs={'tool_calls': [{'id': 'call_5QebOwmaD9wezmvyFXjasqKx', 'function': {'arguments': '{\"data\": [{\"dailyVolatility\": 0.125, \"proportion\": 0.35}, {\"dailyVolatility\": 0.085, \"proportion\": 0.45}, {\"dailyVolatility\": 0.095, \"proportion\": 0.25}]}', 'name': 'calculate_portfolio_volatility'}, 'type': 'function'}, {'id': 'call_syj98F8MvCbT8BhesyeMwtG4', 'function': {'arguments': '{\"data\": [{\"valueAtRisk\": \"$15,000\"}, {\"valueAtRisk\": \"$25,000\"}, {\"valueAtRisk\": \"$18,000\"}]}', 'name': 'assess_risk'}, 'type': 'function'}, {'id': 'call_vzjaJjcV6bhif2c8uHH7Rzgp', 'function': {'arguments': '{\"data\": [{\"beta\": 1.2}, {\"beta\": 0.9}, {\"beta\": 1.1}]}', 'name': 'analyze_correlation'}, 'type': 'function'}, {'id': 'call_JgPH0OuhvBz4y77mu1fWQtU8', 'function': {'arguments': '{\"data\": [{\"hedgingCost\": 0.0015}, {\"hedgingCost\": 0.0012}, {\"hedgingCost\": 0.0013}]}', 'name': 'evaluate_hedging_cost'}, 'type': 'function'}], 'refusal': None}, response_metadata={'token_usage': {'completion_tokens': 200, 'prompt_tokens': 2564, 'total_tokens': 2764, 'completion_tokens_details': {'accepted_prediction_tokens': None, 'audio_tokens': 0, 'reasoning_tokens': 0, 'rejected_prediction_tokens': None}, 'prompt_tokens_details': {'audio_tokens': 0, 'cached_tokens': 0}}, 'model_name': 'gpt-4o-2024-08-06', 'system_fingerprint': 'fp_b705f0c291', 'finish_reason': 'tool_calls', 'logprobs': None}, id='run-e320b352-e1be-495a-8d64-462c8f18615d-0', tool_calls=[{'name': 'calculate_portfolio_volatility', 'args': {'data': [{'dailyVolatility': 0.125, 'proportion': 0.35}, {'dailyVolatility': 0.085, 'proportion': 0.45}, {'dailyVolatility': 0.095, 'proportion': 0.25}]}, 'id': 'call_5QebOwmaD9wezmvyFXjasqKx', 'type': 'tool_call'}, {'name': 'assess_risk', 'args': {'data': [{'valueAtRisk': '$15,000'}, {'valueAtRisk': '$25,000'}, {'valueAtRisk': '$18,000'}]}, 'id': 'call_syj98F8MvCbT8BhesyeMwtG4', 'type': 'tool_call'}, {'name': 'analyze_correlation', 'args': {'data': [{'beta': 1.2}, {'beta': 0.9}, {'beta': 1.1}]}, 'id': 'call_vzjaJjcV6bhif2c8uHH7Rzgp', 'type': 'tool_call'}, {'name': 'evaluate_hedging_cost', 'args': {'data': [{'hedgingCost': 0.0015}, {'hedgingCost': 0.0012}, {'hedgingCost': 0.0013}]}, 'id': 'call_JgPH0OuhvBz4y77mu1fWQtU8', 'type': 'tool_call'}], usage_metadata={'input_tokens': 2564, 'output_tokens': 200, 'total_tokens': 2764, 'input_token_details': {'audio': 0, 'cache_read': 0}, 'output_token_details': {'audio': 0, 'reasoning': 0}}),\n",
       "  ToolMessage(content='0.10071428571428571', name='calculate_portfolio_volatility', id='2ec1c4e2-5ffa-4209-885a-a282c56d3d69', tool_call_id='call_5QebOwmaD9wezmvyFXjasqKx'),\n",
       "  ToolMessage(content='Error: ValueError(\"could not convert string to float: \\'$15000\\'\")\\n Please fix your mistakes.', name='assess_risk', id='2adeba31-d584-42ea-80cf-5fa27cd50f87', tool_call_id='call_syj98F8MvCbT8BhesyeMwtG4', status='error'),\n",
       "  ToolMessage(content='[\"强正相关\", \"中等\"]', name='analyze_correlation', id='88a45b60-1210-4080-86f7-281afe251125', tool_call_id='call_vzjaJjcV6bhif2c8uHH7Rzgp'),\n",
       "  ToolMessage(content='[0.0013333333333333333, \"中\"]', name='evaluate_hedging_cost', id='4b39c1c6-ab02-4184-9f5f-feafa9bde141', tool_call_id='call_JgPH0OuhvBz4y77mu1fWQtU8'),\n",
       "  AIMessage(content='', additional_kwargs={'tool_calls': [{'id': 'call_kjUutaEVN8YMtDFBuoTnrUkP', 'function': {'arguments': '{\"data\":[{\"valueAtRisk\":\"$15000\"},{\"valueAtRisk\":\"$25000\"},{\"valueAtRisk\":\"$18000\"}]}', 'name': 'assess_risk'}, 'type': 'function'}], 'refusal': None}, response_metadata={'token_usage': {'completion_tokens': 41, 'prompt_tokens': 2856, 'total_tokens': 2897, 'completion_tokens_details': {'accepted_prediction_tokens': None, 'audio_tokens': 0, 'reasoning_tokens': 0, 'rejected_prediction_tokens': None}, 'prompt_tokens_details': {'audio_tokens': 0, 'cached_tokens': 0}}, 'model_name': 'gpt-4o-2024-08-06', 'system_fingerprint': 'fp_ded0d14823', 'finish_reason': 'tool_calls', 'logprobs': None}, id='run-914ee7ac-dd85-4782-875c-1a375f5e67f9-0', tool_calls=[{'name': 'assess_risk', 'args': {'data': [{'valueAtRisk': '$15000'}, {'valueAtRisk': '$25000'}, {'valueAtRisk': '$18000'}]}, 'id': 'call_kjUutaEVN8YMtDFBuoTnrUkP', 'type': 'tool_call'}], usage_metadata={'input_tokens': 2856, 'output_tokens': 41, 'total_tokens': 2897, 'input_token_details': {'audio': 0, 'cache_read': 0}, 'output_token_details': {'audio': 0, 'reasoning': 0}}),\n",
       "  ToolMessage(content='Error: ValueError(\"could not convert string to float: \\'$15000\\'\")\\n Please fix your mistakes.', name='assess_risk', id='1e86e007-c696-4a12-9554-c7b47f5b2333', tool_call_id='call_kjUutaEVN8YMtDFBuoTnrUkP', status='error'),\n",
       "  AIMessage(content='在处理数据时出现了格式化问题，导致无法正确计算 VaR 值。我会先手动修正输入中的 VaR 格式，然后重新尝试处理。\\n\\n我们先重新将 VaR 数值转换为浮点数：\\n\\n- EUR/USD -> $15,000 -> 15000\\n- USD/JPY -> $25,000 -> 25000\\n- GBP/USD -> $18,000 -> 18000\\n\\n接下来我会再次尝试评估持仓组合的风险水平。', additional_kwargs={'tool_calls': [{'id': 'call_pn17RQkpgEdbZswlaiMfjnw0', 'function': {'arguments': '{\"data\":[{\"valueAtRisk\":\"15000\"},{\"valueAtRisk\":\"25000\"},{\"valueAtRisk\":\"18000\"}]}', 'name': 'assess_risk'}, 'type': 'function'}], 'refusal': None}, response_metadata={'token_usage': {'completion_tokens': 147, 'prompt_tokens': 2927, 'total_tokens': 3074, 'completion_tokens_details': {'accepted_prediction_tokens': None, 'audio_tokens': 0, 'reasoning_tokens': 0, 'rejected_prediction_tokens': None}, 'prompt_tokens_details': {'audio_tokens': 0, 'cached_tokens': 0}}, 'model_name': 'gpt-4o-2024-08-06', 'system_fingerprint': 'fp_b705f0c291', 'finish_reason': 'tool_calls', 'logprobs': None}, id='run-fa8ada87-14fc-4702-999f-420251105c17-0', tool_calls=[{'name': 'assess_risk', 'args': {'data': [{'valueAtRisk': '15000'}, {'valueAtRisk': '25000'}, {'valueAtRisk': '18000'}]}, 'id': 'call_pn17RQkpgEdbZswlaiMfjnw0', 'type': 'tool_call'}], usage_metadata={'input_tokens': 2927, 'output_tokens': 147, 'total_tokens': 3074, 'input_token_details': {'audio': 0, 'cache_read': 0}, 'output_token_details': {'audio': 0, 'reasoning': 0}}),\n",
       "  ToolMessage(content='[\"中风险\", {\"valueAtRisk\": \"25000\", \"VaR_value\": 25000.0}]', name='assess_risk', id='415e663c-c1c6-4556-9aff-da973b62f640', tool_call_id='call_pn17RQkpgEdbZswlaiMfjnw0'),\n",
       "  AIMessage(content='', additional_kwargs={'tool_calls': [{'id': 'call_AnEIcxJ5W6vnM2QBn2vsvT6Z', 'function': {'arguments': '{\"volatility\":0.10071428571428571}', 'name': 'determine_market_emotion'}, 'type': 'function'}], 'refusal': None}, response_metadata={'token_usage': {'completion_tokens': 26, 'prompt_tokens': 3109, 'total_tokens': 3135, 'completion_tokens_details': {'accepted_prediction_tokens': None, 'audio_tokens': 0, 'reasoning_tokens': 0, 'rejected_prediction_tokens': None}, 'prompt_tokens_details': {'audio_tokens': 0, 'cached_tokens': 0}}, 'model_name': 'gpt-4o-2024-08-06', 'system_fingerprint': 'fp_ded0d14823', 'finish_reason': 'tool_calls', 'logprobs': None}, id='run-75d5fcb3-5521-48d0-ad43-3063071b0fa8-0', tool_calls=[{'name': 'determine_market_emotion', 'args': {'volatility': 0.10071428571428571}, 'id': 'call_AnEIcxJ5W6vnM2QBn2vsvT6Z', 'type': 'tool_call'}], usage_metadata={'input_tokens': 3109, 'output_tokens': 26, 'total_tokens': 3135, 'input_token_details': {'audio': 0, 'cache_read': 0}, 'output_token_details': {'audio': 0, 'reasoning': 0}}),\n",
       "  ToolMessage(content='偏多', name='determine_market_emotion', id='20ed64f5-b537-4868-b5c8-98f5f8f8e27f', tool_call_id='call_AnEIcxJ5W6vnM2QBn2vsvT6Z'),\n",
       "  AIMessage(content='以下是基于您的持仓数据所进行的全面对冲分析及建议：\\n\\n### 当前对冲建议\\n- **市场波动率**: 0.1007\\n- **市场情绪**: 偏多\\n- **建议**: 市场情绪偏多，建议利用市场空间适当增加看涨头寸，同时保持适度对冲以防意外风险。\\n\\n### 持仓风险评估\\n- **风险等级**: 中风险\\n- **最大 VaR 货币对**: USD/JPY ($25,000)\\n- **建议**: 由于风险评级为中风险，建议考虑对USD/JPY持仓进行微调，通过增加其他货币对的反向持仓来分散风险。\\n\\n### 相关性分析\\n- **相关性**: 强正相关\\n- **对冲效果预估**: 中等\\n- **建议**: 考虑选择非美元货币组合（如EUR/GBP）进行进一步对冲，以增强对冲效果，降低美元强相关性风险。\\n\\n### 成本效益分析\\n- **平均对冲成本**: 0.0013\\n- **对收益率的影响**: 中\\n- **建议**: 成本效益属于中等水平，建议进行策略性对冲，以优化整体组合收益和风险。\\n\\n### 建议持仓调整\\n- **建议持仓**\\n  - **货币对**: USD/JPY\\n  - **持仓量**: 考虑减仓以降低风险敞口，或通过组合对冲进一步优化风险。\\n\\n这些建议旨在帮助您在当前市场情况下优化风险管理及收益表现。请根据具体市场情况及交易策略灵活调整操作。', additional_kwargs={'refusal': None}, response_metadata={'token_usage': {'completion_tokens': 371, 'prompt_tokens': 3147, 'total_tokens': 3518, 'completion_tokens_details': {'accepted_prediction_tokens': None, 'audio_tokens': 0, 'reasoning_tokens': 0, 'rejected_prediction_tokens': None}, 'prompt_tokens_details': {'audio_tokens': 0, 'cached_tokens': 0}}, 'model_name': 'gpt-4o-2024-08-06', 'system_fingerprint': 'fp_ded0d14823', 'finish_reason': 'stop', 'logprobs': None}, id='run-f1078c17-3fa2-4898-8e0d-1118d4a4f95f-0', usage_metadata={'input_tokens': 3147, 'output_tokens': 371, 'total_tokens': 3518, 'input_token_details': {'audio': 0, 'cache_read': 0}, 'output_token_details': {'audio': 0, 'reasoning': 0}})]}"
      ]
     },
     "execution_count": 45,
     "metadata": {},
     "output_type": "execute_result"
    }
   ],
   "source": [
    "messages"
   ]
  },
  {
   "cell_type": "code",
   "execution_count": 49,
   "metadata": {},
   "outputs": [
    {
     "data": {
      "text/plain": [
       "'以下是基于您的持仓数据所进行的全面对冲分析及建议：\\n\\n### 当前对冲建议\\n- **市场波动率**: 0.1007\\n- **市场情绪**: 偏多\\n- **建议**: 市场情绪偏多，建议利用市场空间适当增加看涨头寸，同时保持适度对冲以防意外风险。\\n\\n### 持仓风险评估\\n- **风险等级**: 中风险\\n- **最大 VaR 货币对**: USD/JPY ($25,000)\\n- **建议**: 由于风险评级为中风险，建议考虑对USD/JPY持仓进行微调，通过增加其他货币对的反向持仓来分散风险。\\n\\n### 相关性分析\\n- **相关性**: 强正相关\\n- **对冲效果预估**: 中等\\n- **建议**: 考虑选择非美元货币组合（如EUR/GBP）进行进一步对冲，以增强对冲效果，降低美元强相关性风险。\\n\\n### 成本效益分析\\n- **平均对冲成本**: 0.0013\\n- **对收益率的影响**: 中\\n- **建议**: 成本效益属于中等水平，建议进行策略性对冲，以优化整体组合收益和风险。\\n\\n### 建议持仓调整\\n- **建议持仓**\\n  - **货币对**: USD/JPY\\n  - **持仓量**: 考虑减仓以降低风险敞口，或通过组合对冲进一步优化风险。\\n\\n这些建议旨在帮助您在当前市场情况下优化风险管理及收益表现。请根据具体市场情况及交易策略灵活调整操作。'"
      ]
     },
     "execution_count": 49,
     "metadata": {},
     "output_type": "execute_result"
    }
   ],
   "source": [
    "messages['messages'][-1]"
   ]
  },
  {
   "cell_type": "code",
   "execution_count": 55,
   "metadata": {},
   "outputs": [],
   "source": [
    "from langchain_core.prompts import PromptTemplate\n",
    "parser = JsonOutputParser(pydantic_object=HedgingAdvice)\n",
    "model=ChatOpenAI(name=\"gpt-4o\",temperature=0.0)\n",
    "prompt = PromptTemplate(\n",
    "        template=\"你是一个自然语言解析成json格式的专家，你的任务是根据我的输入解析成json格式，\\n输入{input}，\\n{format_instructions}\",\n",
    "        input_variables=[\"input\"],\n",
    "        partial_variables={\"format_instructions\": parser.get_format_instructions()})\n",
    "chain = prompt | model | parser\n",
    "json = chain.invoke({\"input\": messages['messages'][-1].content})"
   ]
  },
  {
   "cell_type": "code",
   "execution_count": 56,
   "metadata": {},
   "outputs": [
    {
     "data": {
      "text/plain": [
       "{'currentHedgingAdvice': {'volatility': 0.1007,\n",
       "  'emotion': '偏多',\n",
       "  'suggestion': '市场情绪偏多，建议利用市场空间适当增加看涨头寸，同时保持适度对冲以防意外风险。'},\n",
       " 'positionRiskAssessment': {'risk': '中风险',\n",
       "  'var': 'USD/JPY ($25,000)',\n",
       "  'suggestion': '由于风险评级为中风险，建议考虑对USD/JPY持仓进行微调，通过增加其他货币对的反向持仓来分散风险。'},\n",
       " 'correlationAnalysis': {'relative': '强正相关',\n",
       "  'estimate': '中等',\n",
       "  'suggestion': '考虑选择非美元货币组合（如EUR/GBP）进行进一步对冲，以增强对冲效果，降低美元强相关性风险。'},\n",
       " 'costBenefitAnalysis': {'cost': 0.0013,\n",
       "  'influence': '中',\n",
       "  'suggestion': '成本效益属于中等水平，建议进行策略性对冲，以优化整体组合收益和风险。'},\n",
       " 'recommendedPositions': [{'currency': 'USD/JPY',\n",
       "   'quantity': '考虑减仓以降低风险敞口，或通过组合对冲进一步优化风险。'}]}"
      ]
     },
     "execution_count": 56,
     "metadata": {},
     "output_type": "execute_result"
    }
   ],
   "source": [
    "json"
   ]
  },
  {
   "cell_type": "code",
   "execution_count": null,
   "metadata": {},
   "outputs": [],
   "source": []
  }
 ],
 "metadata": {
  "kernelspec": {
   "display_name": "MAGsql",
   "language": "python",
   "name": "python3"
  },
  "language_info": {
   "codemirror_mode": {
    "name": "ipython",
    "version": 3
   },
   "file_extension": ".py",
   "mimetype": "text/x-python",
   "name": "python",
   "nbconvert_exporter": "python",
   "pygments_lexer": "ipython3",
   "version": "3.9.21"
  }
 },
 "nbformat": 4,
 "nbformat_minor": 2
}
